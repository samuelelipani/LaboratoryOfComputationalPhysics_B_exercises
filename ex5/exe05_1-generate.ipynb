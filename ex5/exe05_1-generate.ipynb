{
 "cells": [
  {
   "cell_type": "code",
   "execution_count": 1,
   "metadata": {},
   "outputs": [],
   "source": [
    "import csv\n",
    "# random seed for reproducibility\n",
    "import random\n",
    "random.seed(123)\n",
    "\n",
    "# for i in range(4):\n",
    "#     print(random.random())"
   ]
  },
  {
   "cell_type": "code",
   "execution_count": 2,
   "metadata": {},
   "outputs": [
    {
     "output_type": "stream",
     "name": "stdout",
     "text": [
      "[1, 1, 0, 0, 0, 0, 1, 1] 2\n[1, 1, 0, 0, 1, 1, 0, 0] 0\n[0, 0, 1, 1, 0, 0, 1, 1] 3\n[0, 0, 1, 1, 1, 1, 0, 0] 1\n[0, 0, 1, 1, 0, 0, 1, 1] 3\n[1, 1, 0, 0, 1, 1, 0, 0] 0\n[0, 0, 1, 1, 1, 1, 0, 0] 1\n[1, 1, 0, 0, 0, 0, 1, 1] 2\n[0, 0, 1, 1, 1, 1, 0, 0] 1\n[1, 1, 0, 0, 0, 0, 1, 1] 2\n[0, 0, 1, 1, 0, 0, 1, 1] 3\n[1, 1, 0, 0, 1, 1, 0, 0] 0\n[0, 0, 1, 1, 0, 0, 1, 1] 3\n[0, 0, 1, 1, 1, 1, 0, 0] 1\n[0, 0, 1, 1, 1, 1, 0, 0] 1\n[0, 0, 1, 1, 0, 0, 1, 1] 3\n[1, 1, 0, 0, 1, 1, 0, 0] 0\n[0, 0, 1, 1, 0, 0, 1, 1] 3\n[1, 1, 0, 0, 1, 1, 0, 0] 0\n[0, 0, 1, 1, 0, 0, 1, 1] 3\n"
     ]
    }
   ],
   "source": [
    "# number of data\n",
    "N=10000\n",
    "# size of each data point\n",
    "L=8\n",
    "# 4 intervals of length Z=L/4, each containing a set of 1's or 0's\n",
    "Z=int(L/4)\n",
    "# choose among states (1,0,1,0), (0,1,1,0), (1,0,0,1), (0,1,0,1) from a 2x2 product of (1,0)x(1,0)\n",
    "# with prob=1/4\n",
    "# corruption of bits: switch each of the L variables with probability q\n",
    "q=0.0\n",
    "\n",
    "y = [0] * N\n",
    "x = [[0] * L for j in range(N)]\n",
    "vec1 = [1] * Z     \n",
    "\n",
    "def ones(n,i,j):\n",
    "    x[n][Z*i:Z*(i+1)] = vec1\n",
    "    x[n][Z*(j+2):Z*(j+3)] = vec1\n",
    "\n",
    "random.seed(123)\n",
    "for n in range(N):\n",
    "    a = random.randint(0,1)\n",
    "    b = random.randint(0,1)\n",
    "    y[n] = a+b*2\n",
    "    ones(n,a,b)\n",
    "    \n",
    "    for j in range(L):\n",
    "        if random.random()<q:\n",
    "             x[n][j] = 1-x[n][j]\n",
    "                \n",
    "                \n",
    "for n in range(min(20,N)):\n",
    "    print(x[n],y[n])"
   ]
  },
  {
   "source": [
    "The cell above is introducing some noise inside data. Later we won't check through labels, here we want only to see if the flipping algorithm with probability q works or not. "
   ],
   "cell_type": "markdown",
   "metadata": {}
  },
  {
   "cell_type": "code",
   "execution_count": 3,
   "metadata": {},
   "outputs": [
    {
     "output_type": "stream",
     "name": "stdout",
     "text": [
      "DATA/dataRBM_q0.0.csv\n",
      "Sottodirectory o file DATA gi� esistente.\n"
     ]
    }
   ],
   "source": [
    "!mkdir DATA\n",
    "\n",
    "fname = 'DATA/dataRBM_q'+str(q)+'.csv'\n",
    "print(fname)\n",
    "# any way to do it in one line?\n",
    "with open(fname, mode='w') as myfile:\n",
    "    writer = csv.writer(myfile, delimiter=',')\n",
    "    for i in range(N):\n",
    "        writer.writerow(x[i])"
   ]
  },
  {
   "cell_type": "code",
   "execution_count": null,
   "metadata": {},
   "outputs": [],
   "source": []
  }
 ],
 "metadata": {
  "kernelspec": {
   "name": "python386jvsc74a57bd03a305b4d08dfd919fc77ef9206769bd32a0bd25ca54dc32c0a5bb8b4ec4e7e89",
   "display_name": "Python 3.8.6 64-bit"
  },
  "language_info": {
   "codemirror_mode": {
    "name": "ipython",
    "version": 3
   },
   "file_extension": ".py",
   "mimetype": "text/x-python",
   "name": "python",
   "nbconvert_exporter": "python",
   "pygments_lexer": "ipython3",
   "version": "3.8.6-final"
  }
 },
 "nbformat": 4,
 "nbformat_minor": 2
}