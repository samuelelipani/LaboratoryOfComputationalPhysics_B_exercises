{
 "cells": [
  {
   "cell_type": "markdown",
   "metadata": {},
   "source": [
    "## Generating data\n",
    "We want to generate our data since we already know the complexity of our system. We start from simple examples then moving into complex ones.\n",
    "\n",
    "We are going to generate sequences of words ATCG like the nucleotides in DNA.\n"
   ]
  },
  {
   "cell_type": "code",
   "execution_count": 1,
   "metadata": {},
   "outputs": [
    {
     "name": "stdout",
     "output_type": "stream",
     "text": [
      "6 0 4\n"
     ]
    }
   ],
   "source": [
    "import random\n",
    "myseed = 12345\n",
    "random.seed(myseed)\n",
    "print(random.randint(0,10), \n",
    "      random.randint(0,10),\n",
    "      random.randint(0,10))   \n",
    "# abbiamo stampato questi interi random per capire se il seed conducesse ogni volta agli stessi valori"
   ]
  },
  {
   "cell_type": "code",
   "execution_count": 2,
   "metadata": {},
   "outputs": [
    {
     "name": "stdout",
     "output_type": "stream",
     "text": [
      "YES keyA=.. T ( 1 ) C ..\n",
      "NOT keyB=.. A ( 0 ) A ..\n"
     ]
    }
   ],
   "source": [
    "# Number of samples \n",
    "N = 10000\n",
    "# size of each string. \n",
    "# Ogni stringa è costituita da una sequenza di 12 nucleotidi e in totale abbiamo N stringhe \n",
    "Ls = 12\n",
    "ch = ['A', 'C', 'G', 'T']\n",
    "Nc = len(ch)\n",
    "\n",
    "# data \n",
    "x = [None] * N \n",
    "# in this way without numpy we are creating a list of N None elements\n",
    "\n",
    "# labels\n",
    "y = [0] * N \n",
    "\n",
    "# in questo punto stiamo decidendo a priori quale debba essere il pattern da riconoscere di queste sequenze: troviamo infatti la chiave A quando dopo una posizione da T leggiamo C mentre la chiave B se dopo A abbiamo nuovamente A\n",
    "\n",
    "gapA = 2\n",
    "gapB = 1\n",
    "C0 = ch[3]\n",
    "C1 = ch[1]\n",
    "C2 = ch[0]\n",
    "C3 = ch[0]\n",
    "\n",
    "print('YES keyA=..', C0, '(', gapA-1, ')', C1,'..')\n",
    "\n",
    "print('NOT keyB=..', C2, '(', gapB-1, ')', C3,'..')"
   ]
  },
  {
   "cell_type": "code",
   "execution_count": 3,
   "metadata": {},
   "outputs": [],
   "source": [
    "# è pertanto necessario scrivere una funzione in grado di riconoscere queste sequenze per attribuire loro una label y=(0,1)\n",
    "\n",
    "def is_key(s,Ls,c0,c1,gap):\n",
    "    for j in range(Ls-gap):\n",
    "        if s[j] == c0 and s[j+gap] == c1:\n",
    "            return True\n",
    "    return False"
   ]
  },
  {
   "cell_type": "code",
   "execution_count": 4,
   "metadata": {},
   "outputs": [
    {
     "name": "stdout",
     "output_type": "stream",
     "text": [
      "TAGGCGTCGATG 0\n",
      "CCGATCCCACGG 1\n",
      "ATGATAACCGAT 0\n",
      "ACTCGACATCCG 1\n",
      "TCACGACCGGCT 0\n",
      "GAAATATCAGCA 0\n",
      "TAATGTCGACAT 0\n",
      "CGCCCCGCAACA 0\n",
      "TCAGTATTCCCA 1\n",
      "GGCTCCCTTGAA 0\n",
      "fraction of y labels is = 31.54 %\n"
     ]
    }
   ],
   "source": [
    "random.seed(myseed)\n",
    "for n in range(N):\n",
    "    s=\"\" \n",
    "# è una stringa alla quale posso applicare operazioni algebriche che coinvolgono altre stringhe \n",
    "    for j in range(Ls):\n",
    "        s = s+ch[random.randint(0, Nc-1)] \n",
    "# in questo modo assegno casualmente uno tra i caratteri nella lista Nc alla sequenza di 12 nucleotidi\n",
    "    if is_key(s,Ls,C0,C1,gapA) and not is_key(s,Ls,C2,C3,gapB):\n",
    "        y[n] = 1 # asigning labels \n",
    "    x[n] = s # assign string in \"dataframe\"\n",
    "\n",
    "for n in range(10):\n",
    "    print(x[n],y[n])\n",
    "\n",
    "print('fraction of y labels is =',sum(y)*100/N,'%')"
   ]
  },
  {
   "cell_type": "code",
   "execution_count": 5,
   "metadata": {},
   "outputs": [],
   "source": [
    "#import subprocess\n",
    "#subprocess.run(['mkdir', 'DATA'])\n",
    "import os\n",
    "os.system(\"mkdir DATA\")\n",
    "\n",
    "import csv\n",
    "# quando utilizzo with l'oggetto myfile è automaticamente cancellato e non è lasciato aperto visto che comunque vogliamo soltanto scrivere questi dati in un file csv\n",
    "with open('DATA/sequences' + str(Ls) + '.csv', mode='w') as myfile:\n",
    "    for n in range(N):\n",
    "        writer = csv.writer(myfile, delimiter=',')\n",
    "        writer.writerow([x[n], y[n]])"
   ]
  },
  {
   "cell_type": "code",
   "execution_count": null,
   "metadata": {},
   "outputs": [],
   "source": []
  }
 ],
 "metadata": {
  "kernelspec": {
   "display_name": "Python 3",
   "language": "python",
   "name": "python3"
  },
  "language_info": {
   "codemirror_mode": {
    "name": "ipython",
    "version": 3
   },
   "file_extension": ".py",
   "mimetype": "text/x-python",
   "name": "python",
   "nbconvert_exporter": "python",
   "pygments_lexer": "ipython3",
   "version": "3.9.1"
  }
 },
 "nbformat": 4,
 "nbformat_minor": 2
}
